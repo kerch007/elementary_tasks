{
 "cells": [
  {
   "cell_type": "code",
   "execution_count": 98,
   "metadata": {},
   "outputs": [],
   "source": [
    "ONES = [\n",
    "    None, 'один', 'два', 'три', 'четыре',\n",
    "    'пять', 'шесть', 'семь', 'восемь', 'девять'\n",
    "]\n",
    "\n",
    "TEENS = [\n",
    "    'десять', 'одиннадцать', 'двеннадцать', 'тринадцать', 'четырнадцать',\n",
    "    'пятнадцать', 'шестнадцать', 'семнадцать', 'восемнадцать', 'девятнадцать'\n",
    "]\n",
    "\n",
    "TENS = [\n",
    "    None, None, 'двадцать', 'тридцать', 'сорок',\n",
    "    'пятьдесят', 'шестьдесят', 'семьдесят', 'восемьдесят', 'девяносто'\n",
    "]\n",
    "\n",
    "HUNDREDS = [None, \"сто\", \"двести\", \"триста\", \"четыреста\", \"пятьсот\", \n",
    "            \"шестьсот\", \"семьсот\", \"восемьсот\", \"девятьсот\"]\n",
    "\n",
    "POWERS_OF_1000 = [\n",
    "    '', ' тысяч', ' миллион', ' миллиард', ' триллион',\n",
    "    ' квадрильон', ' квинтилион', ' секстиллион', ' септилион', ' октилион'\n",
    "]\n",
    "\n",
    "def number_to_chunks(number):\n",
    "\n",
    "    while number:\n",
    "        number, n = divmod(number, 1000)\n",
    "        yield n\n",
    "\n",
    "def words_1_to_999(a, i=1):\n",
    "  if a==0:\n",
    "    return (ZERO)\n",
    "  else:\n",
    "    n_100 = a // 100\n",
    "    n_10 = a % 100 // 10 \n",
    "    n_1 = a % 10\n",
    "    res = []\n",
    "\n",
    "  res.append(HUNDREDS[n_100])\n",
    "  gender_digits=ONES\n",
    "  if n_10 == 1:\n",
    "    res.append(gender_digits[10*n_10 + n_1])\n",
    "  else:\n",
    "    res.append(TENS[n_10])\n",
    "  res.append(gender_digits[n_1])\n",
    "  return(\" \".join([s for s in res if s != None])) \n",
    "\n",
    "def number_to_words(number):\n",
    "    res = []\n",
    "    for i, chunk in enumerate(number_to_chunks(number)):\n",
    "        res.append(words_1_to_999(chunk, i))   \n",
    "        res[i] = res[i]+str(POWERS_OF_1000[i])\n",
    "        if i == 1:\n",
    "            if chunk % 10 == 1:\n",
    "                res[i] = res[i] + 'а'\n",
    "                \n",
    "            if 2 <= chunk % 10 <=4 :\n",
    "                res[i] = res[i] + 'и'\n",
    "        if i > 1:\n",
    "            if 5 <= chunk % 10 <= 9:\n",
    "                res[i] = res[i] + 'ов'\n",
    "            if 2 <= chunk % 10 <=4 :\n",
    "                res[i] = res[i] + 'а'\n",
    "        \n",
    "                \n",
    "    result = \" \".join([s for s in res[::-1] if s != None]) \n",
    "    result = result.replace('два тысячи', 'две тысячи')\n",
    "    result = result.replace('один тысяча', 'одна тысяча')\n",
    "    return(result) \n",
    "    "
   ]
  },
  {
   "cell_type": "code",
   "execution_count": 102,
   "metadata": {},
   "outputs": [
    {
     "data": {
      "text/plain": [
       "'один квадрильон двести пятьдесят четыре триллиона пятьсот двадцать два миллиарда сто девять миллионов четыреста шестьдесят семь тысяч восемьсот шестьдесят один'"
      ]
     },
     "execution_count": 102,
     "metadata": {},
     "output_type": "execute_result"
    }
   ],
   "source": [
    "number_to_words(1254522109467861)\n",
    "    "
   ]
  },
  {
   "cell_type": "code",
   "execution_count": 61,
   "metadata": {},
   "outputs": [],
   "source": [
    "\n"
   ]
  },
  {
   "cell_type": "code",
   "execution_count": null,
   "metadata": {},
   "outputs": [],
   "source": []
  },
  {
   "cell_type": "code",
   "execution_count": null,
   "metadata": {},
   "outputs": [],
   "source": []
  },
  {
   "cell_type": "code",
   "execution_count": null,
   "metadata": {},
   "outputs": [],
   "source": []
  },
  {
   "cell_type": "code",
   "execution_count": null,
   "metadata": {},
   "outputs": [],
   "source": []
  }
 ],
 "metadata": {
  "kernelspec": {
   "display_name": "Python 3",
   "language": "python",
   "name": "python3"
  },
  "language_info": {
   "codemirror_mode": {
    "name": "ipython",
    "version": 3
   },
   "file_extension": ".py",
   "mimetype": "text/x-python",
   "name": "python",
   "nbconvert_exporter": "python",
   "pygments_lexer": "ipython3",
   "version": "3.6.7"
  }
 },
 "nbformat": 4,
 "nbformat_minor": 2
}
