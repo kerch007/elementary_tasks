{
 "cells": [
  {
   "cell_type": "code",
   "execution_count": 25,
   "metadata": {},
   "outputs": [
    {
     "data": {
      "text/plain": [
       "[1, 1, 2, 3, 5, 8, 13, 21, 34, 55, 89]"
      ]
     },
     "execution_count": 25,
     "metadata": {},
     "output_type": "execute_result"
    }
   ],
   "source": [
    "def fib(low, high):\n",
    "    n1 = 0\n",
    "    n2 = 1 \n",
    "    n3 = 1\n",
    "    result = []\n",
    "    while (n1 <= high):\n",
    "        if (n1 >= low):\n",
    "            result.append(n1)\n",
    "        n1 = n2\n",
    "        n2 = n3\n",
    "        n3 = n1 + n2\n",
    "    return result\n",
    " \n",
    "fib(1,100)\n"
   ]
  }
 ],
 "metadata": {
  "kernelspec": {
   "display_name": "Python 3",
   "language": "python",
   "name": "python3"
  },
  "language_info": {
   "codemirror_mode": {
    "name": "ipython",
    "version": 3
   },
   "file_extension": ".py",
   "mimetype": "text/x-python",
   "name": "python",
   "nbconvert_exporter": "python",
   "pygments_lexer": "ipython3",
   "version": "3.6.6"
  }
 },
 "nbformat": 4,
 "nbformat_minor": 2
}
