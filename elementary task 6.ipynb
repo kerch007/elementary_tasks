{
 "cells": [
  {
   "cell_type": "code",
   "execution_count": 28,
   "metadata": {},
   "outputs": [
    {
     "name": "stdout",
     "output_type": "stream",
     "text": [
      "Choose type of algorithm: 1 - Simple, 2 - Complex, 3 - Mixed \n",
      "2\n",
      "\n",
      "The number of \"happy\" tickets calculated by this method =  0\n"
     ]
    }
   ],
   "source": [
    "file = open('/home/kerch007/bilet.txt', 'r')\n",
    "text = file.read().strip()\n",
    "file.close()\n",
    "data = list(map(int, text.split(',')))\n",
    "algoritm = int(input('Choose type of algorithm: 1 - Simple, 2 - Complex, 3 - Mixed \\n'))\n",
    "print ()\n",
    "def lucky_ticket(a):\n",
    "    b = a//1000\n",
    "    one = b // 100\n",
    "    two = b // 10 % 10    \n",
    "    three = b % 10\n",
    "    c = a % 1000\n",
    "    four = c // 100\n",
    "    five = c // 10 % 10\n",
    "    six = c % 10\n",
    "    if algoritm == 3:  \n",
    "        if (two+four+six)==(one+three+five):\n",
    "            return (1)\n",
    "        else:\n",
    "            return (0)\n",
    "    \n",
    "    if algoritm == 1:\n",
    "        if (one+two+three)==(four+five+six):\n",
    "            return (1)\n",
    "        else:\n",
    "            return (0)\n",
    "    \n",
    "    if algoritm ==2:\n",
    "        even = 0\n",
    "        odd = 0\n",
    "        for x in (one, two, three, four, five, six):\n",
    "            if x % 2 == 0: \n",
    "                even = even+x\n",
    "            else:\n",
    "                odd = odd+x\n",
    "        if even == odd:\n",
    "            return(1)\n",
    "        else:\n",
    "            return(0)\n",
    "\n",
    "print('The number of \"happy\" tickets calculated by this method = ',sum(list(map(lucky_ticket, data))))"
   ]
  }
 ],
 "metadata": {
  "kernelspec": {
   "display_name": "Python 3",
   "language": "python",
   "name": "python3"
  },
  "language_info": {
   "codemirror_mode": {
    "name": "ipython",
    "version": 3
   },
   "file_extension": ".py",
   "mimetype": "text/x-python",
   "name": "python",
   "nbconvert_exporter": "python",
   "pygments_lexer": "ipython3",
   "version": "3.6.7"
  }
 },
 "nbformat": 4,
 "nbformat_minor": 2
}
