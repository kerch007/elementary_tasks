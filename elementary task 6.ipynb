{
 "cells": [
  {
   "cell_type": "code",
   "execution_count": 3,
   "metadata": {},
   "outputs": [
    {
     "name": "stdout",
     "output_type": "stream",
     "text": [
      "\n",
      "Range of tickets [123456, 125800] Method:  3\n",
      "The number of \"happy\" tickets calculated by this method =  166\n"
     ]
    }
   ],
   "source": [
    "file = open('bilet.txt', 'r')\n",
    "text = file.read().strip()\n",
    "file.close()\n",
    "data = list(map(int, text.split(',')))\n",
    "algoritm = data[2]\n",
    "range_of_tickets =  [i for i in range(data[0],data[1])]\n",
    "print ()\n",
    "def lucky_ticket(a):\n",
    "    b = a//1000\n",
    "    one = b // 100\n",
    "    two = b // 10 % 10    \n",
    "    three = b % 10\n",
    "    c = a % 1000\n",
    "    four = c // 100\n",
    "    five = c // 10 % 10\n",
    "    six = c % 10\n",
    "    if algoritm == 3:  \n",
    "        if (two+four+six)==(one+three+five):\n",
    "            return (1)\n",
    "        else:\n",
    "            return (0)\n",
    "    \n",
    "    if algoritm == 1:\n",
    "        if (one+two+three)==(four+five+six):\n",
    "            return (1)\n",
    "        else:\n",
    "            return (0)\n",
    "    \n",
    "    if algoritm ==2:\n",
    "        even = 0\n",
    "        odd = 0\n",
    "        for x in (one, two, three, four, five, six):\n",
    "            if x % 2 == 0: \n",
    "                even = even+x\n",
    "            else:\n",
    "                odd = odd+x\n",
    "        if even == odd:\n",
    "            return(1)\n",
    "        else:\n",
    "            return(0)\n",
    "print('Range of tickets',data[0:2], 'Method: ', data[2])\n",
    "print('The number of \"happy\" tickets calculated by this method = ',sum(list(map(lucky_ticket, range_of_tickets))))"
   ]
  }
 ],
 "metadata": {
  "kernelspec": {
   "display_name": "Python 3",
   "language": "python",
   "name": "python3"
  },
  "language_info": {
   "codemirror_mode": {
    "name": "ipython",
    "version": 3
   },
   "file_extension": ".py",
   "mimetype": "text/x-python",
   "name": "python",
   "nbconvert_exporter": "python",
   "pygments_lexer": "ipython3",
   "version": "3.6.7"
  }
 },
 "nbformat": 4,
 "nbformat_minor": 2
}
