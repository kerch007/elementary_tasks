{
 "cells": [
  {
   "cell_type": "code",
   "execution_count": 1,
   "metadata": {},
   "outputs": [
    {
     "name": "stdout",
     "output_type": "stream",
     "text": [
      "Please enter side a of first envelope 20\n",
      "Please enter side b of first envelope 30\n",
      "Please enter side c of second envelope 40\n",
      "Please enter side d of second envelope 50\n",
      "Yes, first envelope can be put into second envelope\n",
      "Try Again? n\n"
     ]
    }
   ],
   "source": [
    "while True:\n",
    "  try:\n",
    "    a = float(input('Please enter side a of first envelope '))\n",
    "    b = float(input('Please enter side b of first envelope '))\n",
    "    c = float(input('Please enter side c of second envelope '))\n",
    "    d = float(input('Please enter side d of second envelope '))\n",
    "  \n",
    "    \n",
    "    if((a<c)and(b<d))or((a<d)and(b<c)) or ((c<a)and(d<b))or((c<b)and(d<a)):\n",
    "      print (\"Yes, first envelope can be put into second envelope\")\n",
    "  \n",
    "    else:\n",
    "      print(\"No, first envelope can not be put into second envelope\")\n",
    "  except ValueError:\n",
    "    print (\"This is not a number!\")\n",
    "  \n",
    "  try_again = input(\"Try Again? \").lower()\n",
    "  if try_again.lower() != \"y\":\n",
    "    if try_again.lower() != \"yes\":\n",
    "      break "
   ]
  }
 ],
 "metadata": {
  "kernelspec": {
   "display_name": "Python 3",
   "language": "python",
   "name": "python3"
  },
  "language_info": {
   "codemirror_mode": {
    "name": "ipython",
    "version": 3
   },
   "file_extension": ".py",
   "mimetype": "text/x-python",
   "name": "python",
   "nbconvert_exporter": "python",
   "pygments_lexer": "ipython3",
   "version": "3.6.6"
  }
 },
 "nbformat": 4,
 "nbformat_minor": 2
}
