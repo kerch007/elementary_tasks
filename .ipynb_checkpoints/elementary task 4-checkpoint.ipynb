{
 "cells": [
  {
   "cell_type": "code",
   "execution_count": 24,
   "metadata": {},
   "outputs": [
    {
     "name": "stdout",
     "output_type": "stream",
     "text": [
      "Please chose method:\n",
      " 1 - Count the number of line entries in a text file.\n",
      " 2 - Replace a string with another in the specified file.\n",
      "1\n",
      "Please enter file path: \n",
      "parser.txt\n",
      "Please enter string for counting: \n",
      "and\n",
      "Number of entries: 23\n"
     ]
    }
   ],
   "source": [
    "import re\n",
    "    \n",
    "method = int(input('Please chose method:\\n 1 - Count the number of line entries in a text file.\\n 2 - Replace a string with another in the specified file.\\n'))\n",
    "\n",
    "if method == 1:\n",
    "    try:\n",
    "        filepath = input(\"Please enter file path: \\n\")\n",
    "        with open(filepath, 'r+') as file:\n",
    "            text = file.read()\n",
    "        file.close()\n",
    "        stringa = input(\"Please enter string for counting: \\n\")\n",
    "        rePages = re.compile(stringa)\n",
    "        tmp = rePages.findall(text)\n",
    "        print ('Number of entries:',len(tmp))\n",
    "    except IOError:\n",
    "        print (\"Error: File does not appear to exist. \\n\")\n",
    "    \n",
    "if method == 2:\n",
    "    try:\n",
    "        filepath = input(\"Please enter file path: \\n\")\n",
    "        with open (filepath, 'r') as file:\n",
    "            text = file.read()\n",
    "        file.close()\n",
    "        stringa_find = input(\"Please enter text which need to replace: \\n\")\n",
    "        stringa_change = input(\"Please enter text for replacement: \\n\")\n",
    "        new_data = text.replace(stringa_find, stringa_change)\n",
    "        with open (filepath, 'w') as file:\n",
    "            file.write(new_data)\n",
    "        print('Strings replaced...')\n",
    "    \n",
    "    except IOError:\n",
    "        print (\"Error: File does not appear to exist.\")"
   ]
  }
 ],
 "metadata": {
  "kernelspec": {
   "display_name": "Python 3",
   "language": "python",
   "name": "python3"
  },
  "language_info": {
   "codemirror_mode": {
    "name": "ipython",
    "version": 3
   },
   "file_extension": ".py",
   "mimetype": "text/x-python",
   "name": "python",
   "nbconvert_exporter": "python",
   "pygments_lexer": "ipython3",
   "version": "3.6.7"
  }
 },
 "nbformat": 4,
 "nbformat_minor": 2
}
