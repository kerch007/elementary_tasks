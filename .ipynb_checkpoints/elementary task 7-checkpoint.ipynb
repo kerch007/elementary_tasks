{
 "cells": [
  {
   "cell_type": "code",
   "execution_count": 6,
   "metadata": {},
   "outputs": [
    {
     "data": {
      "text/plain": [
       "[0, 1, 2, 3, 4, 5, 6, 7, 8, 9, 10, 11, 12, 13, 14, 15, 16, 17, 18, 19, 20, 21]"
      ]
     },
     "execution_count": 6,
     "metadata": {},
     "output_type": "execute_result"
    }
   ],
   "source": [
    "class square_of_number():\n",
    "    def __init__(self, n):\n",
    "        \n",
    "        self.horizont = horizont\n",
    "    def check(n):\n",
    "        try:\n",
    "            if (int(n) < 0):\n",
    "                print('No.. Negative number entered. Please enter positive integer number')\n",
    "            res = []\n",
    "            for i in range(n):\n",
    "                \n",
    "                if i ** 2 < n:\n",
    "                    res.append(i)\n",
    "            return res\n",
    "            \n",
    "            \n",
    "        except (ValueError,RuntimeError, TypeError, NameError):\n",
    "            print(\"No.. String entered. Please enter positive integer number\")\n",
    "\n",
    "square_of_number.check(456)"
   ]
  }
 ],
 "metadata": {
  "kernelspec": {
   "display_name": "Python 3",
   "language": "python",
   "name": "python3"
  },
  "language_info": {
   "codemirror_mode": {
    "name": "ipython",
    "version": 3
   },
   "file_extension": ".py",
   "mimetype": "text/x-python",
   "name": "python",
   "nbconvert_exporter": "python",
   "pygments_lexer": "ipython3",
   "version": "3.6.7"
  }
 },
 "nbformat": 4,
 "nbformat_minor": 2
}
