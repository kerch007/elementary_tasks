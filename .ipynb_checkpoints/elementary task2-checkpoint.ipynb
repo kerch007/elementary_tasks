{
 "cells": [
  {
   "cell_type": "code",
   "execution_count": 32,
   "metadata": {},
   "outputs": [
    {
     "name": "stdout",
     "output_type": "stream",
     "text": [
      "Please enter side a of first envelope \n",
      " 6\n",
      "Please enter side b of first envelope \n",
      "5\n",
      "Please enter side c of second envelope \n",
      "fsdg\n",
      "This is not a number! \n",
      "\n",
      "Try Again? n\n"
     ]
    }
   ],
   "source": [
    "while True:\n",
    "    try:\n",
    "        a = float(input('Please enter side a of first envelope \\n '))\n",
    "        if a <=0:\n",
    "            a=float(input(\"Side can't be negative, please try again: \\n\"))\n",
    "            \n",
    "        b = float(input('Please enter side b of first envelope \\n'))\n",
    "        if b <=0:\n",
    "            b=float(input(\"Side can't be negative, please try again: \\n\"))\n",
    "        \n",
    "        c = float(input('Please enter side c of second envelope \\n'))\n",
    "        if c <=0:\n",
    "            c=float(input(\"Side can't be negative, please try again: \\n\"))\n",
    "        \n",
    "        d = float(input('Please enter side d of second envelope \\n'))\n",
    "        if  d <= 0:\n",
    "            d=float(input(\"Side can't be negative, please try again: \\n\"))\n",
    "    \n",
    "        if((a<c)and(b<d))or((a<d)and(b<c)) or ((c<a)and(d<b))or((c<b)and(d<a)):\n",
    "            print (\"Yes, first envelope can be put into second envelope \\n\")\n",
    "        else:\n",
    "            print(\"No, first envelope can not be put into second envelope \\n\")\n",
    "    \n",
    "    except (ValueError):\n",
    "        print (\"This is not a number! \\n\")\n",
    "    \n",
    "    try_again = input(\"Try Again? \").lower()\n",
    "    if try_again.lower() != \"y\":\n",
    "        if try_again.lower() != \"yes\":\n",
    "              break "
   ]
  }
 ],
 "metadata": {
  "kernelspec": {
   "display_name": "Python 3",
   "language": "python",
   "name": "python3"
  },
  "language_info": {
   "codemirror_mode": {
    "name": "ipython",
    "version": 3
   },
   "file_extension": ".py",
   "mimetype": "text/x-python",
   "name": "python",
   "nbconvert_exporter": "python",
   "pygments_lexer": "ipython3",
   "version": "3.6.7"
  }
 },
 "nbformat": 4,
 "nbformat_minor": 2
}
