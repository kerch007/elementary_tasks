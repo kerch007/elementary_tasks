{
 "cells": [
  {
   "cell_type": "code",
   "execution_count": 20,
   "metadata": {},
   "outputs": [
    {
     "name": "stdout",
     "output_type": "stream",
     "text": [
      "* * * * * * \n",
      " * * * * * *\n",
      "* * * * * * \n",
      " * * * * * *\n",
      "* * * * * * \n",
      " * * * * * *\n",
      "\n"
     ]
    }
   ],
   "source": [
    "class Chess_desk():\n",
    "\n",
    "  def __init__(self, horizont, vertical):\n",
    "    \n",
    "    self.horizont = horizont\n",
    "    self.vertical = vertical\n",
    "    \n",
    "  def print_stars(self):\n",
    "    try:\n",
    "        \n",
    "            \n",
    "        if int(self.horizont) > 0 and int(self.vertical) > 0:\n",
    "            for i in range(self.horizont):\n",
    "                if (i % 2 == 0):\n",
    "                    print('* ' * self.vertical)\n",
    "                else:\n",
    "                    print(' *' * self.vertical)\n",
    "        \n",
    "        if (self.horizont <=0) or (self.vertical <=0):\n",
    "            print(\"Positive numbers only please.\")\n",
    "      \n",
    "    except ValueError:\n",
    "        print(\"No.. String entered. Please enter positive integer number\")\n",
    "    \n",
    "        \n",
    "chess_desk = Chess_desk(6,6)\n",
    "chess_desk.print_stars()\n",
    "print()"
   ]
  }
 ],
 "metadata": {
  "kernelspec": {
   "display_name": "Python 3",
   "language": "python",
   "name": "python3"
  },
  "language_info": {
   "codemirror_mode": {
    "name": "ipython",
    "version": 3
   },
   "file_extension": ".py",
   "mimetype": "text/x-python",
   "name": "python",
   "nbconvert_exporter": "python",
   "pygments_lexer": "ipython3",
   "version": "3.6.7"
  }
 },
 "nbformat": 4,
 "nbformat_minor": 2
}
