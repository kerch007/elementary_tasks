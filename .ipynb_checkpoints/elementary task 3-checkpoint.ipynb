{
 "cells": [
  {
   "cell_type": "code",
   "execution_count": 22,
   "metadata": {},
   "outputs": [
    {
     "name": "stdout",
     "output_type": "stream",
     "text": [
      "Please enter specifications of triangle in format: <name>, <side length>, <side length>, <side length> \n",
      "First,20,35.5,40\n",
      "Would you like enter one more triangle data? y\n",
      "Please enter specifications of triangle in format: <name>, <side length>, <side length>, <side length> \n",
      "Second, 50,70,60.5\n",
      "Would you like enter one more triangle data? y\n",
      "Please enter specifications of triangle in format: <name>, <side length>, <side length>, <side length> \n",
      "Third, 40,60,50 \n",
      "Would you like enter one more triangle data? n\n",
      "============= Triangles list: ===============\n",
      "['Second:', '1479.32 cm2']\n",
      "['Third:', '992.16 cm2']\n",
      "['First:', '354.68 cm2']\n"
     ]
    }
   ],
   "source": [
    "def square(numbers):\n",
    "    try:\n",
    "        numbers[1], numbers[2], numbers[3] = float(numbers[1]), float(numbers[2]), float(numbers[3])\n",
    "        p = (numbers[1] + numbers[2] + numbers[3]) / 2\n",
    "        s = (p * (p - numbers[1]) * (p - numbers[2]) * (p - numbers[3])) ** 0.5\n",
    "        return(f'{numbers[0]}:' ,round(s,2))\n",
    "    except ValueError:\n",
    "        print(\"No.. String entered. Please enter positive number\")\n",
    "a = []\n",
    "\n",
    "while True:\n",
    "    inp = input('Please enter specifications of triangle in format: <name>, <side length>, <side length>, <side length> \\n').split(\",\")\n",
    "    \n",
    "    a.append(inp)\n",
    "    try_again = input(\"Would you like enter one more triangle data? \").lower()\n",
    "    if try_again.lower() != \"y\":\n",
    "        if try_again.lower() != \"yes\": break\n",
    "    \n",
    "computation = []\n",
    "try:\n",
    "    for i in range(len(a)):\n",
    "        computation.append(square(a[i]))     \n",
    "    computation = sorted(computation, key=lambda tup:(-tup[1], tup[0]))\n",
    "    computation = [list(t) for t in computation]\n",
    "    for i in range(len(computation)):\n",
    "        computation[i][1] = str(computation[i][1])+(' cm2')\n",
    "except:\n",
    "    print('Please eneter correct data')\n",
    "else:\n",
    "    print ('============= Triangles list: ===============')\n",
    "    for i in computation:\n",
    "        print(f'{i}')    \n"
   ]
  }
 ],
 "metadata": {
  "kernelspec": {
   "display_name": "Python 3",
   "language": "python",
   "name": "python3"
  },
  "language_info": {
   "codemirror_mode": {
    "name": "ipython",
    "version": 3
   },
   "file_extension": ".py",
   "mimetype": "text/x-python",
   "name": "python",
   "nbconvert_exporter": "python",
   "pygments_lexer": "ipython3",
   "version": "3.6.7"
  }
 },
 "nbformat": 4,
 "nbformat_minor": 2
}
