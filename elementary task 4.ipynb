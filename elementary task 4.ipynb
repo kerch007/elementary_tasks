{
 "cells": [
  {
   "cell_type": "code",
   "execution_count": null,
   "metadata": {},
   "outputs": [
    {
     "name": "stdout",
     "output_type": "stream",
     "text": [
      "Please chose method:\n",
      " 1 - Count the number of line entries in a text file.\n",
      " 2 - Replace a string with another in the specified file.\n",
      "2\n"
     ]
    }
   ],
   "source": [
    "import re\n",
    "    \n",
    "method = int(input('Please chose method:\\n 1 - Count the number of line entries in a text file.\\n 2 - Replace a string with another in the specified file.\\n'))\n",
    "\n",
    "if method == 1:\n",
    "    filepath = input(\"Please enter file path: \")\n",
    "    stringa = input(\"Please enter string for counting: \")\n",
    "    with open(filepath, 'r+') as file:\n",
    "        text = file.read()\n",
    "    file.close()\n",
    "    rePages = re.compile(stringa)\n",
    "    tmp = rePages.findall(text)\n",
    "    print (len(tmp))\n",
    "\n",
    "if method == 2:\n",
    "    filepath = input(\"Please enter file path: \")\n",
    "    stringa_find = input(\"Please enter text which need to replace: \")\n",
    "    stringa_change = input(\"Please enter text for replacement \")\n",
    "    with open (filepath, 'r') as file:\n",
    "        text = file.read()\n",
    "    new_data = text.replace(stringa_find, stringa_change)\n",
    "    with open ('parser.txt', 'w') as file:\n",
    "        file.write(new_data)\n",
    "    print('Strings replaced...')"
   ]
  }
 ],
 "metadata": {
  "kernelspec": {
   "display_name": "Python 3",
   "language": "python",
   "name": "python3"
  },
  "language_info": {
   "codemirror_mode": {
    "name": "ipython",
    "version": 3
   },
   "file_extension": ".py",
   "mimetype": "text/x-python",
   "name": "python",
   "nbconvert_exporter": "python",
   "pygments_lexer": "ipython3",
   "version": "3.6.7"
  }
 },
 "nbformat": 4,
 "nbformat_minor": 2
}
